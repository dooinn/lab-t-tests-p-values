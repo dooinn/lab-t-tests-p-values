{
 "cells": [
  {
   "cell_type": "markdown",
   "id": "97c505b3",
   "metadata": {},
   "source": [
    "## Instructions"
   ]
  },
  {
   "cell_type": "markdown",
   "id": "21f5915c",
   "metadata": {},
   "source": [
    "## Question 1\n",
    "1. We will have another simple example on two sample t test (pooled- when the variances are equal). But this time this is a one sided t-test\n",
    "\n",
    "In a packing plant, a machine packs cartons with jars. It is supposed that a new machine will pack faster on the average than the machine currently used. To test that hypothesis, the times it takes each machine to pack ten cartons are recorded. The results, in seconds, are shown in the tables in the file files_for_lab/machine.txt. Assume that there is sufficient evidence to conduct the t test, does the data provide sufficient evidence to show if one machine is better than the other\n",
    "\n",
    "- H0: The new machine is not faster than the old machine\n",
    "- H1: The enw machins is faster than the old machine."
   ]
  },
  {
   "cell_type": "code",
   "execution_count": 54,
   "id": "2e87c969",
   "metadata": {},
   "outputs": [
    {
     "data": {
      "text/plain": [
       "Ttest_indResult(statistic=-3.3972307061176026, pvalue=0.0032111425007745158)"
      ]
     },
     "execution_count": 54,
     "metadata": {},
     "output_type": "execute_result"
    }
   ],
   "source": [
    "import pandas as pd\n",
    "from scipy.stats import ttest_ind\n",
    "\n",
    "\n",
    "new_machine = [42.1, 41, 41.3, 41.8, 42.4, 42.8, 43.2, 42.3, 41.8, 42.7]\n",
    "old_machine = [42.7, 43.6, 43.8, 43.3, 42.5, 43.5, 43.1, 41.7, 44, 44.1]\n",
    "\n",
    "ttest_ind(new_machine, old_machine)\n",
    "\n"
   ]
  },
  {
   "cell_type": "markdown",
   "id": "8e07a5a6",
   "metadata": {},
   "source": [
    "## Conclusion:\n",
    "The new machine is faster than the old machine based on the provided data."
   ]
  },
  {
   "cell_type": "markdown",
   "id": "08a00303",
   "metadata": {},
   "source": [
    "## Question2\n",
    "2. An additional problem (not mandatory): In this case we can't assume that the population variances are equal. Hence in this case we cannot pool the variances. Independent random samples of 17 sophomores and 13 juniors attending a large university yield the following data on grade point averages. Data is provided in the file files_for_lab/student_gpa.txt. At the 5% significance level, do the data provide sufficient evidence to conclude that the mean GPAs of sophomores and juniors at the university differ?\n",
    "\n",
    "Test statistics can be calculated as: link to the image - Test statistics calculation for Unpooled Variance Case\n",
    "\n",
    "![Sample Image](t-stat.png)\n",
    "\n",
    "\n",
    "Degrees of freedom is (n1-1)+(n2-1)."
   ]
  },
  {
   "cell_type": "code",
   "execution_count": 56,
   "id": "029d3cdb",
   "metadata": {},
   "outputs": [
    {
     "data": {
      "text/plain": [
       "-0.9231495630900278"
      ]
     },
     "execution_count": 56,
     "metadata": {},
     "output_type": "execute_result"
    }
   ],
   "source": [
    "sophomores = [3.04, 1.71, 3.3, 2.88, 2.11, 2.6, 2.92, 3.6, 2.28, 2.82, 3.03, 3.13, 2.86, 3.49, 3.11, 2.13, 3.27]\n",
    "juniors = [2.56, 2.77, 2.7, 3, 2.98, 3.47, 3.26, 3.2, 3.19, 2.65, 3, 3.39, 2.58]\n",
    "\n",
    "mean_soph = np.mean(sophomores)\n",
    "mean_jun = np.mean(juniors)\n",
    "\n",
    "var_soph = np.var(sophomores, ddof=1)\n",
    "var_jun = np.var(juniors, ddof=1)\n",
    "\n",
    "n_soph = len(sophomores)\n",
    "n_jun = len(juniors)\n",
    "\n",
    "t_stat = (mean_soph - mean_jun) / np.sqrt((var_soph / n_soph) + (var_jun / n_jun))\n",
    "\n",
    "t_stat\n"
   ]
  },
  {
   "cell_type": "code",
   "execution_count": 60,
   "id": "838414ba",
   "metadata": {},
   "outputs": [
    {
     "name": "stdout",
     "output_type": "stream",
     "text": [
      "28\n",
      "2.048407141795244\n"
     ]
    }
   ],
   "source": [
    "import scipy.stats as stats\n",
    "\n",
    "\n",
    "alpha = 0.05\n",
    "df = (len(sophomores)-1) + (len(juniors)-1)\n",
    "\n",
    "\n",
    "critical_value = stats.t.ppf(1 - alpha/2, df)  \n",
    "\n",
    "print(df)\n",
    "print(critical_value)"
   ]
  },
  {
   "cell_type": "markdown",
   "id": "2bf2c266",
   "metadata": {},
   "source": [
    "t-value is smaller than critical_value; thus the given data does not reveal evidence sufficiently. (Not significantly differnt)"
   ]
  },
  {
   "cell_type": "code",
   "execution_count": null,
   "id": "a7a2da6d",
   "metadata": {},
   "outputs": [],
   "source": []
  }
 ],
 "metadata": {
  "kernelspec": {
   "display_name": "Python 3",
   "language": "python",
   "name": "python3"
  },
  "language_info": {
   "codemirror_mode": {
    "name": "ipython",
    "version": 3
   },
   "file_extension": ".py",
   "mimetype": "text/x-python",
   "name": "python",
   "nbconvert_exporter": "python",
   "pygments_lexer": "ipython3",
   "version": "3.7.4"
  }
 },
 "nbformat": 4,
 "nbformat_minor": 5
}
